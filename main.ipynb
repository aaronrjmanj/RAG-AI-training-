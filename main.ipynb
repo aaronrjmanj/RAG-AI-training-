{
 "cells": [
  {
   "cell_type": "code",
   "execution_count": 7,
   "metadata": {},
   "outputs": [
    {
     "name": "stdout",
     "output_type": "stream",
     "text": [
      "\n",
      "** RAG implementation of Llama2 using pdf **\n"
     ]
    }
   ],
   "source": [
    "print(f\"\\n** RAG implementation of Llama2 using pdf **\")"
   ]
  },
  {
   "cell_type": "code",
   "execution_count": 4,
   "metadata": {},
   "outputs": [],
   "source": [
    "import os \n",
    "from dotenv import load_dotenv\n",
    "load_dotenv()\n",
    "#OPENAI_API_KEY=os.getenv(\"OPENAI_API_KEY\")\n",
    "MODEL = \"llama2\""
   ]
  },
  {
   "cell_type": "code",
   "execution_count": 5,
   "metadata": {},
   "outputs": [],
   "source": [
    "from langchain_community.llms import Ollama\n",
    "from langchain_community.embeddings import OllamaEmbeddings\n",
    "model = Ollama(model=MODEL)\n",
    "embeddings = OllamaEmbeddings(model=MODEL)\n",
    "\n",
    "#model.invoke(\"how to impress my boyfriend who likes business and build wealth and family ?\")"
   ]
  },
  {
   "cell_type": "code",
   "execution_count": 6,
   "metadata": {},
   "outputs": [],
   "source": [
    "from langchain_core.output_parsers import StrOutputParser\n",
    "\n",
    "parser = StrOutputParser()\n",
    "\n",
    "chain = model | parser \n",
    "#chain.invoke(\"Tell me the joke\")"
   ]
  },
  {
   "cell_type": "code",
   "execution_count": 7,
   "metadata": {},
   "outputs": [
    {
     "data": {
      "text/plain": [
       "[Document(page_content='Arun Raja Manjini  \\narunraja08@gmail.com |  (361) 228 -0045 | Hillsboro, OR  | linkedin.com/in/arunrjm/  \\n \\nOBJECTIVE  \\nAs a n Engineer  my goal is to immerse myself in cutting -edge technologies, methodologies, and tools \\nemployed in  pre-silicon & post -silicon validation, thereby broadening my expertise,  and learning latest \\nvalidation methodologies /tools , and becoming an integral part of a team delivering high -quality  product.  \\n \\nEXPERIENCE  \\nSystem Validation Engineer , Intel Corporation, USA                              Aug 2021 – Present  \\n▪ Contributed to the test plans to functionally validate Intel Scalable coherent fabric’s features routing \\nand cache coherency in LLC and other IO devices.  \\n▪ Collaborated with the IP design Architecture / SoC  Emulation teams to review and debug of functional \\nscenarios to functional/ performance validation.  \\n▪ Implemented/ develop ed Python scripts for debug script and individual test cases, integrating them into \\nan automated testing framework.  \\n▪ Worked on power -on new silicon and from power -on exit to longer regression owning features through \\ndifferent phases of the product.  \\n▪ Triage and bucketing failures from long regression using automation tools and help in documentation \\nof failures and triage of failures to RTL/firmware /environment bugs.  \\n▪ Used Breker, Portable Stimulus  Standard  tool to implement new function test cases and validation \\nefforts for faster triage of the failures on bare metal and emulation environment.  \\n▪ Mentoring interns and new grads  in my team to help with the initial  phases of the job role and aiding \\nthem with best know n process . \\n \\nAssistant System Engineer , Tata Consultancy Services Ltd, India               Sep 2018 – Aug 2019  \\n▪ Engineer who assisted my team to develop and test python scripts to detect configuration changes in \\nthe device (cisco switch/router) and automated the steps associated it for periodic monitoring . \\n▪ Gained knowledge in python regular expression & file handling, networking tools, pre & post install \\nchecks.  \\n▪ Tools and Tech: Networking, Putty, SQL, Agile development methods.   \\n \\nSKILLS  \\nComputer Architecture , Python , Linux , GitHub , Functional validation , Cache Coherency Debugging , RTL, \\nVerilog , Scripting , Tracing, Power -On, Failure Analysis , x86  and new debug methodologies.    \\n \\nEDUCATION  \\nM.S. in Electrical Engineering                             Texas A&M University, TX, US       2019  - 2021           GPA: 3.9/4   \\nB.Tech. in Electronics & Communication         Pondicherry University, India        2014  - 2018           GPA: 3.5/4   \\n \\nACADEMIC PROJECTS  \\nSynchronous FIFO  RTL coding             \\n▪ Designed an 8x16 entry synchronous First In  First Out buffer for data transfers . \\n▪ Implemented logic to design a memory with write,  read, empty and full conditions.   \\n▪ Used Verilog HDL (RTL development) to establish the FIFO behaviour . \\n \\nCache c oherency problem – Computer Architecture  \\n▪ Submitted a report on overcoming the cache coherency problem raised in the multicore processor due \\nto sharing of writable data .  \\n▪ Understood how MESI protocol i s used to avoid cache coherency.   \\n \\nVISA: I am currently on H1B visa with form I -140 approved.', metadata={'source': 'Arun_Resume.pdf', 'page': 0})]"
      ]
     },
     "execution_count": 7,
     "metadata": {},
     "output_type": "execute_result"
    }
   ],
   "source": [
    "from langchain_community.document_loaders import PyPDFLoader\n",
    "\n",
    "loader = PyPDFLoader(\"Arun_Resume.pdf\")\n",
    "pages = loader.load_and_split()\n",
    "#pages\n"
   ]
  },
  {
   "cell_type": "code",
   "execution_count": 8,
   "metadata": {},
   "outputs": [
    {
     "data": {
      "text/plain": [
       "'\\nAnswer the question based on the context below. If you can\\'t \\nanswer the question, reply \"I don\\'t know\".\\n\\nContext: Here is some context\\n\\nQuestion: Here is a question\\n'"
      ]
     },
     "execution_count": 8,
     "metadata": {},
     "output_type": "execute_result"
    }
   ],
   "source": [
    "from langchain.prompts import PromptTemplate\n",
    "\n",
    "template = \"\"\"\n",
    "Answer the question based on the context below. If you can't \n",
    "answer the question, reply \"I don't know\".\n",
    "\n",
    "Context: {context}\n",
    "\n",
    "Question: {question}\n",
    "\"\"\"\n",
    "\n",
    "prompt = PromptTemplate.from_template(template)\n",
    "prompt.format(context=\"Here is some context\", question=\"Here is a question\")"
   ]
  },
  {
   "cell_type": "code",
   "execution_count": 9,
   "metadata": {},
   "outputs": [
    {
     "data": {
      "text/plain": [
       "{'title': 'PromptInput',\n",
       " 'type': 'object',\n",
       " 'properties': {'context': {'title': 'Context', 'type': 'string'},\n",
       "  'question': {'title': 'Question', 'type': 'string'}}}"
      ]
     },
     "execution_count": 9,
     "metadata": {},
     "output_type": "execute_result"
    }
   ],
   "source": [
    "chain = prompt| model | parser  \n",
    "chain.input_schema.schema()"
   ]
  },
  {
   "cell_type": "code",
   "execution_count": 10,
   "metadata": {},
   "outputs": [
    {
     "data": {
      "text/plain": [
       "'Of course! Based on the context you provided, the answer to the question \"What\\'s my name?\" is \"Aaron.\"'"
      ]
     },
     "execution_count": 10,
     "metadata": {},
     "output_type": "execute_result"
    }
   ],
   "source": [
    "chain.invoke(\n",
    " {\n",
    "    \"context\":\"My name is Aaron.\",\n",
    "    \"question\":\"What's my name ?\"\n",
    " })"
   ]
  },
  {
   "cell_type": "code",
   "execution_count": 14,
   "metadata": {},
   "outputs": [],
   "source": [
    "from langchain_community.vectorstores import DocArrayInMemorySearch\n",
    "vectorstore = DocArrayInMemorySearch.from_documents(pages, embedding=embeddings)"
   ]
  },
  {
   "cell_type": "code",
   "execution_count": 16,
   "metadata": {},
   "outputs": [
    {
     "data": {
      "text/plain": [
       "[Document(page_content='Arun Raja Manjini  \\narunraja08@gmail.com |  (361) 228 -0045 | Hillsboro, OR  | linkedin.com/in/arunrjm/  \\n \\nOBJECTIVE  \\nAs a n Engineer  my goal is to immerse myself in cutting -edge technologies, methodologies, and tools \\nemployed in  pre-silicon & post -silicon validation, thereby broadening my expertise,  and learning latest \\nvalidation methodologies /tools , and becoming an integral part of a team delivering high -quality  product.  \\n \\nEXPERIENCE  \\nSystem Validation Engineer , Intel Corporation, USA                              Aug 2021 – Present  \\n▪ Contributed to the test plans to functionally validate Intel Scalable coherent fabric’s features routing \\nand cache coherency in LLC and other IO devices.  \\n▪ Collaborated with the IP design Architecture / SoC  Emulation teams to review and debug of functional \\nscenarios to functional/ performance validation.  \\n▪ Implemented/ develop ed Python scripts for debug script and individual test cases, integrating them into \\nan automated testing framework.  \\n▪ Worked on power -on new silicon and from power -on exit to longer regression owning features through \\ndifferent phases of the product.  \\n▪ Triage and bucketing failures from long regression using automation tools and help in documentation \\nof failures and triage of failures to RTL/firmware /environment bugs.  \\n▪ Used Breker, Portable Stimulus  Standard  tool to implement new function test cases and validation \\nefforts for faster triage of the failures on bare metal and emulation environment.  \\n▪ Mentoring interns and new grads  in my team to help with the initial  phases of the job role and aiding \\nthem with best know n process . \\n \\nAssistant System Engineer , Tata Consultancy Services Ltd, India               Sep 2018 – Aug 2019  \\n▪ Engineer who assisted my team to develop and test python scripts to detect configuration changes in \\nthe device (cisco switch/router) and automated the steps associated it for periodic monitoring . \\n▪ Gained knowledge in python regular expression & file handling, networking tools, pre & post install \\nchecks.  \\n▪ Tools and Tech: Networking, Putty, SQL, Agile development methods.   \\n \\nSKILLS  \\nComputer Architecture , Python , Linux , GitHub , Functional validation , Cache Coherency Debugging , RTL, \\nVerilog , Scripting , Tracing, Power -On, Failure Analysis , x86  and new debug methodologies.    \\n \\nEDUCATION  \\nM.S. in Electrical Engineering                             Texas A&M University, TX, US       2019  - 2021           GPA: 3.9/4   \\nB.Tech. in Electronics & Communication         Pondicherry University, India        2014  - 2018           GPA: 3.5/4   \\n \\nACADEMIC PROJECTS  \\nSynchronous FIFO  RTL coding             \\n▪ Designed an 8x16 entry synchronous First In  First Out buffer for data transfers . \\n▪ Implemented logic to design a memory with write,  read, empty and full conditions.   \\n▪ Used Verilog HDL (RTL development) to establish the FIFO behaviour . \\n \\nCache c oherency problem – Computer Architecture  \\n▪ Submitted a report on overcoming the cache coherency problem raised in the multicore processor due \\nto sharing of writable data .  \\n▪ Understood how MESI protocol i s used to avoid cache coherency.   \\n \\nVISA: I am currently on H1B visa with form I -140 approved.', metadata={'source': 'Arun_Resume.pdf', 'page': 0})]"
      ]
     },
     "execution_count": 16,
     "metadata": {},
     "output_type": "execute_result"
    }
   ],
   "source": [
    "retriever = vectorstore.as_retriever()\n",
    "retriever.invoke(\"Cache\")"
   ]
  },
  {
   "cell_type": "code",
   "execution_count": 17,
   "metadata": {},
   "outputs": [],
   "source": [
    "from operator import itemgetter\n",
    "\n",
    "chain = (\n",
    "    {\n",
    "        \"context\": itemgetter(\"question\") | retriever,#array of documents\n",
    "        \"question\": itemgetter(\"question\"),\n",
    "    }\n",
    "    | prompt\n",
    "    | model\n",
    "    | parser\n",
    ")"
   ]
  },
  {
   "cell_type": "code",
   "execution_count": 20,
   "metadata": {},
   "outputs": [
    {
     "name": "stdout",
     "output_type": "stream",
     "text": [
      "Question: where did he study?\n",
      "Answer: The answer to your question can be found in the resume of Arun Raja Manjini. According to his resume, he studied at Texas A&M University in the United States for his Master's degree in Electrical Engineering, and at Pondicherry University in India for his Bachelor's degree in Electronics & Communication.\n",
      "\n"
     ]
    }
   ],
   "source": [
    "questions = [\n",
    "    \"where did he study?\",\n",
    "    \"Whats the name ?\",\n",
    "]\n",
    "\n",
    "for question in questions:\n",
    "    print(f\"Question: {question}\")\n",
    "    print(f\"Answer: {chain.invoke({'question': question})}\")\n",
    "    print()"
   ]
  },
  {
   "cell_type": "code",
   "execution_count": 21,
   "metadata": {},
   "outputs": [
    {
     "data": {
      "text/plain": [
       "['Based on the provided resume, Arun Raja Manjini studied at Texas A&M University in the United States for his Master of Science degree in Electrical Engineering, and at Pondicherry University in India for his Bachelor of Technology degree in Electronics & Communication.']"
      ]
     },
     "execution_count": 21,
     "metadata": {},
     "output_type": "execute_result"
    }
   ],
   "source": [
    "chain.batch([{\"question\": q} for q in questions])"
   ]
  }
 ],
 "metadata": {
  "kernelspec": {
   "display_name": "Python 3",
   "language": "python",
   "name": "python3"
  },
  "language_info": {
   "codemirror_mode": {
    "name": "ipython",
    "version": 3
   },
   "file_extension": ".py",
   "mimetype": "text/x-python",
   "name": "python",
   "nbconvert_exporter": "python",
   "pygments_lexer": "ipython3",
   "version": "3.12.4"
  }
 },
 "nbformat": 4,
 "nbformat_minor": 2
}
